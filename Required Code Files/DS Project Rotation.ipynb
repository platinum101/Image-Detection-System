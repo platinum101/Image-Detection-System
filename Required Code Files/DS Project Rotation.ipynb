{
 "cells": [
  {
   "cell_type": "markdown",
   "metadata": {},
   "source": [
    "## Imports"
   ]
  },
  {
   "cell_type": "code",
   "execution_count": 2,
   "metadata": {},
   "outputs": [],
   "source": [
    "import glob\n",
    "import os\n",
    "import xml.etree.ElementTree as ET\n",
    "from PIL import Image\n",
    "import math"
   ]
  },
  {
   "cell_type": "markdown",
   "metadata": {},
   "source": [
    "# Rotating Images using Imgaug Library"
   ]
  },
  {
   "cell_type": "code",
   "execution_count": 7,
   "metadata": {
    "scrolled": true
   },
   "outputs": [],
   "source": [
    "import imageio\n",
    "import imgaug as ia\n",
    "from imgaug.augmentables.bbs import BoundingBox, BoundingBoxesOnImage\n",
    "from imgaug import augmenters as iaa \n",
    "\n",
    "\n",
    "image_path = 'K:/Study/Semester 7/DS/Project/PyCharm Folder/Pascal VOC Files/CNIC/JPEGImages'\n",
    "annotation_path = 'K:/Study/Semester 7/DS/Project/PyCharm Folder/Pascal VOC Files/CNIC/Annotations'\n",
    "xml_destination_path = 'K:/Study/Semester 7/DS/Project/PyCharm Folder/Rotated_CNIC/Rotated_XMLs'\n",
    "image_destination_path = 'K:/Study/Semester 7/DS/Project/PyCharm Folder/Rotated_CNIC/Rotated_Images/'\n",
    "\n",
    "i = 1\n",
    "\n",
    "for file in os.listdir(annotation_path):\n",
    "    fullname = os.path.join(annotation_path, file) \n",
    "    tree = ET.parse(fullname)\n",
    "    og_root = tree.getroot()\n",
    "    \n",
    "    image_file_name = og_root.find('filename').text\n",
    "    \n",
    "    print(image_file_name)\n",
    "    \n",
    "    # opening corresponding image file\n",
    "    image_directory = os.path.join(image_path, image_file_name) \n",
    "    image = imageio.imread(image_directory)\n",
    "\n",
    "    degree = 0\n",
    "    rotation_num = 0\n",
    "    \n",
    "    while degree < 360:\n",
    "        ia.seed(1)\n",
    "        \n",
    "        # making a copy of original xml file\n",
    "        # converting xml to string\n",
    "        xml_string = ET.tostring(og_root)\n",
    "\n",
    "        # now parsing xml from that string instead of xml file\n",
    "        # to prevent the original file from being updated\n",
    "        \n",
    "        # .fromstring returns element, NOT an element tree\n",
    "        element = ET.fromstring(xml_string)\n",
    "        # converting element to element tree\n",
    "        tree = ET.ElementTree(element)\n",
    "        root = tree.getroot()\n",
    "    \n",
    "        bb_list = []\n",
    "\n",
    "        for coordinate in og_root.findall('object/bndbox'):\n",
    "            xmin = float(coordinate.find('xmin').text)\n",
    "            ymin = float(coordinate.find('ymin').text)\n",
    "            xmax = float(coordinate.find('xmax').text)\n",
    "            ymax = float(coordinate.find('ymax').text)\n",
    "\n",
    "            bb = [xmin, ymin, xmax, ymax]\n",
    "            bb_list.append(bb)\n",
    "        \n",
    "        \n",
    "        bbs = BoundingBoxesOnImage([\n",
    "            BoundingBox(bb_list[0][0], bb_list[0][1], bb_list[0][2], bb_list[0][3]),\n",
    "            BoundingBox(bb_list[1][0], bb_list[1][1], bb_list[1][2], bb_list[1][3]),\n",
    "            BoundingBox(bb_list[2][0], bb_list[2][1], bb_list[2][2], bb_list[2][3]),\n",
    "            BoundingBox(bb_list[3][0], bb_list[3][1], bb_list[3][2], bb_list[3][3]),\n",
    "            BoundingBox(bb_list[4][0], bb_list[4][1], bb_list[4][2], bb_list[4][3]),\n",
    "        ], shape=image.shape)\n",
    "        \n",
    "        \n",
    "        \n",
    "        # rotating image and the bounding boxes in it\n",
    "        image_aug, bbs_aug = iaa.Affine(rotate=degree)(image=image, bounding_boxes=bbs)\n",
    "        # ia.imshow(bbs_aug.draw_on_image(image_aug))\n",
    "\n",
    "        bb_index = 0\n",
    "        for coordinate in root.findall('object/bndbox'):\n",
    "            coordinate.find('.//xmin').text = str(bbs_aug[bb_index][0][0])\n",
    "            coordinate.find('.//ymin').text = str(bbs_aug[bb_index][0][1])\n",
    "            coordinate.find('.//xmax').text = str(bbs_aug[bb_index][1][0])\n",
    "            coordinate.find('.//ymax').text = str(bbs_aug[bb_index][1][0])\n",
    "            bb_index += 1\n",
    "        \n",
    "        # converting updated xml to string\n",
    "        xml_string = ET.tostring(root)\n",
    "        \n",
    "#         # storing XMLs\n",
    "#         with open(os.path.join(xml_destination_path, image_file_name.split('.')[0] + '_rotation' + str(rotation_num) + '.xml'), \"wb\") as f:\n",
    "#             f.write(xml_string)\n",
    "#             f.close()\n",
    "\n",
    "#         # storing image\n",
    "#         file_name = image_file_name.split('.')[0] + '_rotation' + str(rotation_num) + '.png'\n",
    "        \n",
    "#         imageio.imwrite(image_destination_path + file_name, image_aug)\n",
    "        \n",
    "        degree += 4\n",
    "        rotation_num += 1\n",
    "        \n",
    "    if i==1:\n",
    "        break\n",
    "        "
   ]
  },
  {
   "cell_type": "code",
   "execution_count": 85,
   "metadata": {},
   "outputs": [
    {
     "data": {
      "text/html": [
       "<style>.container { width:100% !important; }</style>"
      ],
      "text/plain": [
       "<IPython.core.display.HTML object>"
      ]
     },
     "metadata": {},
     "output_type": "display_data"
    }
   ],
   "source": [
    "from IPython.core.display import display, HTML\n",
    "display(HTML(\"<style>.container { width:100% !important; }</style>\"))"
   ]
  },
  {
   "cell_type": "code",
   "execution_count": null,
   "metadata": {},
   "outputs": [],
   "source": []
  }
 ],
 "metadata": {
  "kernelspec": {
   "display_name": "Python 3",
   "language": "python",
   "name": "python3"
  },
  "language_info": {
   "codemirror_mode": {
    "name": "ipython",
    "version": 3
   },
   "file_extension": ".py",
   "mimetype": "text/x-python",
   "name": "python",
   "nbconvert_exporter": "python",
   "pygments_lexer": "ipython3",
   "version": "3.7.4"
  }
 },
 "nbformat": 4,
 "nbformat_minor": 4
}
